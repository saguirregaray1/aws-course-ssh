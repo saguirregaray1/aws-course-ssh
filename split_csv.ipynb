{
 "cells": [
  {
   "cell_type": "code",
   "execution_count": 3,
   "id": "209027be",
   "metadata": {},
   "outputs": [],
   "source": [
    "import csv\n",
    "\n",
    "# Specify the path to the input CSV file\n",
    "input_file_path = \"my_data.csv\"\n",
    "\n",
    "# Specify the paths to the output CSV files\n",
    "output_file_path_1 = \"output_1.csv\"\n",
    "output_file_path_2 = \"output_2.csv\"\n",
    "output_file_path_3 = \"output_3.csv\"\n",
    "\n",
    "# Open the input CSV file and read the contents\n",
    "with open(input_file_path, \"r\", encoding=\"utf-8\") as input_file:\n",
    "    reader = csv.reader(input_file)\n",
    "    header = next(reader)\n",
    "    rows = [row for row in reader]\n",
    "\n",
    "# Split the rows into three equal parts\n",
    "num_rows = len(rows)\n",
    "chunk_size = num_rows // 3\n",
    "chunks = [rows[i:i+chunk_size] for i in range(0, num_rows, chunk_size)]\n",
    "\n",
    "# Write each chunk to a separate output CSV file\n",
    "with open(output_file_path_1, \"w\", newline=\"\", encoding=\"utf-8\") as output_file_1:\n",
    "    writer = csv.writer(output_file_1)\n",
    "    writer.writerow(header)\n",
    "    writer.writerows(chunks[0])\n",
    "\n",
    "with open(output_file_path_2, \"w\", newline=\"\", encoding=\"utf-8\") as output_file_2:\n",
    "    writer = csv.writer(output_file_2)\n",
    "    writer.writerow(header)\n",
    "    writer.writerows(chunks[1])\n",
    "\n",
    "with open(output_file_path_3, \"w\", newline=\"\", encoding=\"utf-8\") as output_file_3:\n",
    "    writer = csv.writer(output_file_3)\n",
    "    writer.writerow(header)\n",
    "    writer.writerows(chunks[2])"
   ]
  }
 ],
 "metadata": {
  "kernelspec": {
   "display_name": "Python 3 (ipykernel)",
   "language": "python",
   "name": "python3"
  },
  "language_info": {
   "codemirror_mode": {
    "name": "ipython",
    "version": 3
   },
   "file_extension": ".py",
   "mimetype": "text/x-python",
   "name": "python",
   "nbconvert_exporter": "python",
   "pygments_lexer": "ipython3",
   "version": "3.9.12"
  }
 },
 "nbformat": 4,
 "nbformat_minor": 5
}
